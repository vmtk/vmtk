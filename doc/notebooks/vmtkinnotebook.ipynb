{
 "cells": [
  {
   "cell_type": "markdown",
   "metadata": {},
   "source": [
    "# The Vascular Modeling Toolkit\n",
    "## Pypes Tutorial"
   ]
  },
  {
   "cell_type": "markdown",
   "metadata": {},
   "source": [
    "### Overview\n",
    "\n",
    "PypeS is a small high-level framework of Python pipeable scripts.\n",
    "\n",
    "### Motivation\n",
    "\n",
    "Writing classes implementing algorithms and writing actual tools to be used for everyday work are two distinct tasks. Very often a well-designed object-oriented library ends up to be used in ever-growing collections of shell, Python or Tcl scripts or small C programs, each with its own argument parsing and I/O sections. Very often high-level code is duplicated to provide slightly different functionality. On the other side, writing a GUI is a time-consuming task, and adding new functionality requires time, which might deter experimentation. PypeS goes in the direction of providing a flexible framework for high-level code, both from the user's and from the developer's points of view. The user wants to get things done minimizing the work required and the amount of intermediate data generated. The coder wants to limit the amount of code, she/he has to cut and paste (and maintain), and to quickly add new functionality and make it interact with what she/he's ever written before.\n",
    "\n",
    "### Description\n",
    "\n",
    "PypeS is basically made up of two main classes:\n",
    "\n",
    "- PypeScript: the base class for every high-level script. It manages parsing, instantiates proper input/output methods for the script and keeps the script structure consistent\n",
    "- Pype: the class that orchestrates the interaction among PypeScripts. It enables one to pipe one PypeScript after another, and it takes care of connecting the right arguments from one script to the other. It can be called from the command line by issuing \n",
    "        pype pype-arguments \n",
    "or automatically instantiated from a pypescript. \n",
    "\n",
    "Each PypeScript is at the same time:\n",
    "\n",
    "- a script which can be called from the command line and piped to other scripts\n",
    "- a class which can be called from Python code (e.g. inside a tkinter GUI or JupyterNotebook) \n",
    "\n",
    "### Historic Methods of Interacting with Pypes\n",
    "\n",
    "- [vmtk Scripts Tutorial](http://www.vmtk.org/tutorials/ScriptsBasic.html)\n",
    "- [Basic PypeS tutorial](http://www.vmtk.org/tutorials/PypesBasic.html)\n",
    "\n",
    "### Using VMTK Within Interactive Pypes Sessions\n",
    "VMTK 2.0 provides seamless integration of vmtk pypes within the interactive Jupyter Notebook interpreter. By using the new `vmtk.run()` interface, the power of pypes has been extended, allowing for easy access and specification to vmtk data objects within an interactive python session. \n",
    "\n",
    "For those familiar with the pypes interface, there are no backwards incompatible API changes. \n",
    "\n",
    "To begin to use the new interface, simply `import vmtk`"
   ]
  },
  {
   "cell_type": "code",
   "execution_count": 1,
   "metadata": {},
   "outputs": [],
   "source": [
    "import vmtk"
   ]
  },
  {
   "cell_type": "markdown",
   "metadata": {},
   "source": [
    "With this simple import, we have access to not only `vmtkscripts` but to a new method symbol which has been exported (the `run` method)."
   ]
  },
  {
   "cell_type": "code",
   "execution_count": 2,
   "metadata": {},
   "outputs": [
    {
     "data": {
      "text/plain": [
       "[['run']]"
      ]
     },
     "execution_count": 2,
     "metadata": {},
     "output_type": "execute_result"
    }
   ],
   "source": [
    "vmtk.__all__"
   ]
  },
  {
   "cell_type": "markdown",
   "metadata": {},
   "source": [
    "We can specify a pype by setting an argument string into the `vmtk.run` interface just as a normal pype would work. The notebook will display all the normal logging data, and any visualizations will appear in a seperate render window"
   ]
  },
  {
   "cell_type": "code",
   "execution_count": 3,
   "metadata": {},
   "outputs": [
    {
     "name": "stdout",
     "output_type": "stream",
     "text": [
      "\n",
      "Automatic piping vmtkimagereader\n",
      "Parsing options vmtkimagereader\n",
      "    InputFileName = ./aorta.mha\n",
      "Explicit piping vmtkimagereader\n",
      "Input vmtkimagereader members:\n",
      "    Id = 0\n",
      "    Disabled = 0\n",
      "    Format = \n",
      "    GuessFormat = 1\n",
      "    UseITKIO = 1\n",
      "    Image = 0\n",
      "    InputFileName = ./aorta.mha\n",
      "    InputFilePrefix = \n",
      "    InputFilePattern = \n",
      "    DataExtent = [-1, -1, -1, -1, -1, -1]\n",
      "    HeaderSize = 0\n",
      "    DataSpacing = [1.0, 1.0, 1.0]\n",
      "    DataOrigin = [0.0, 0.0, 0.0]\n",
      "    DesiredOrientation = native\n",
      "    DataByteOrder = littleendian\n",
      "    DataScalarType = float\n",
      "    FileDimensionality = 3\n",
      "    Flip = [0, 0, 0]\n",
      "    AutoOrientDICOMImage = 1\n",
      "    ImageOutputFileName = \n",
      "Executing vmtkimagereader ...\n",
      "Spacing 0.878906 0.878906 1.500090\n",
      "Origin 156.445000 24.609400 0.000000\n",
      "Dimensions 157 393 34\n",
      "Done executing vmtkimagereader.\n",
      "Output vmtkimagereader members:\n",
      "    Id = 0\n",
      "    Image = vtkImageData\n",
      "    RasToIjkMatrixCoefficients = [1.137778101412438, -0.0, 0.0, -177.99969507546882, -0.0, 1.137778101412438, -0.0, -28.000036408899245, 0.0, -0.0, 0.6666266690665227, -0.0, -0.0, 0.0, -0.0, 1.0]\n",
      "    XyzToRasMatrixCoefficients = [1.0, 0.0, 0.0, 0.0, 0.0, 1.0, 0.0, 0.0, 0.0, 0.0, 1.0, 0.0, 0.0, 0.0, 0.0, 1.0]\n",
      "\n",
      "Automatic piping vmtkimageviewer\n",
      "    Image = vmtkimagereader-0.Image\n",
      "Parsing options vmtkimageviewer\n",
      "    WindowLevel = [0.0, 500.0]\n",
      "Explicit piping vmtkimageviewer\n",
      "Input vmtkimageviewer members:\n",
      "    Id = 0\n",
      "    Disabled = 0\n",
      "    Image = vtkImageData\n",
      "    ImageInputFileName = \n",
      "    ArrayName = \n",
      "    vmtkRenderer = None\n",
      "    WindowLevel = [0.0, 500.0]\n",
      "    Display = 1\n",
      "    Margins = 0\n",
      "    TextureInterpolation = 1\n",
      "    ContinuousCursor = 0\n",
      "    ImageOutputFileName = \n",
      "Executing vmtkimageviewer ...\n",
      "Quit renderer\n",
      "Done executing vmtkimageviewer.\n",
      "Output vmtkimageviewer members:\n",
      "    Id = 0\n",
      "    Image = vtkImageData\n",
      "    PlaneWidgetX = vtkImagePlaneWidget\n",
      "    PlaneWidgetY = vtkImagePlaneWidget\n",
      "    PlaneWidgetZ = vtkImagePlaneWidget\n"
     ]
    }
   ],
   "source": [
    "imagePype = vmtk.run('vmtkimagereader -ifile ./aorta.mha --pipe vmtkimageviewer -windowlevel 0.0 500')"
   ]
  },
  {
   "cell_type": "markdown",
   "metadata": {},
   "source": [
    "![vmtk imagePype](../img/imageViewerPype.png)"
   ]
  },
  {
   "cell_type": "markdown",
   "metadata": {},
   "source": [
    "### Accessing Pype Members from vmtk.run()\n",
    "\n",
    "By setting the name `imagePype` to our vmtk.run method, we now have access to every input/output member for every script specified within the pype.\n",
    "\n",
    "If we wanted to access to vtkImageData which is used to store our image while it's in memory, we can simply assign it to:"
   ]
  },
  {
   "cell_type": "code",
   "execution_count": 4,
   "metadata": {},
   "outputs": [],
   "source": [
    "aortaImage = imagePype.vmtkimagereader.OutputMembers.Image"
   ]
  },
  {
   "cell_type": "markdown",
   "metadata": {},
   "source": [
    "We can inspect the vtkImageData object assigned to the python variable by just printing it"
   ]
  },
  {
   "cell_type": "code",
   "execution_count": 5,
   "metadata": {},
   "outputs": [
    {
     "name": "stdout",
     "output_type": "stream",
     "text": [
      "vtkImageData (0x7fc03d3010f0)\n",
      "  Debug: Off\n",
      "  Modified Time: 410\n",
      "  Reference Count: 7\n",
      "  Registered Events: (none)\n",
      "  Information: 0x7fc03a8fb690\n",
      "  Data Released: False\n",
      "  Global Release Data: Off\n",
      "  UpdateTime: 9093\n",
      "  Field Data:\n",
      "    Debug: Off\n",
      "    Modified Time: 408\n",
      "    Reference Count: 1\n",
      "    Registered Events: (none)\n",
      "    Number Of Arrays: 0\n",
      "    Number Of Components: 0\n",
      "    Number Of Tuples: 0\n",
      "  Number Of Points: 2097834\n",
      "  Number Of Cells: 2018016\n",
      "  Cell Data:\n",
      "    Debug: Off\n",
      "    Modified Time: 392\n",
      "    Reference Count: 1\n",
      "    Registered Events: \n",
      "      Registered Observers:\n",
      "        vtkObserver (0x7fc03a8f2ae0)\n",
      "          Event: 33\n",
      "          EventName: ModifiedEvent\n",
      "          Command: 0x7fc03d3142f0\n",
      "          Priority: 0\n",
      "          Tag: 1\n",
      "    Number Of Arrays: 0\n",
      "    Number Of Components: 0\n",
      "    Number Of Tuples: 0\n",
      "    Copy Tuple Flags: ( 1 1 1 1 1 0 1 1 )\n",
      "    Interpolate Flags: ( 1 1 1 1 1 0 0 1 )\n",
      "    Pass Through Flags: ( 1 1 1 1 1 1 1 1 )\n",
      "    Scalars: (none)\n",
      "    Vectors: (none)\n",
      "    Normals: (none)\n",
      "    TCoords: (none)\n",
      "    Tensors: (none)\n",
      "    GlobalIds: (none)\n",
      "    PedigreeIds: (none)\n",
      "    EdgeFlag: (none)\n",
      "  Point Data:\n",
      "    Debug: Off\n",
      "    Modified Time: 407\n",
      "    Reference Count: 1\n",
      "    Registered Events: \n",
      "      Registered Observers:\n",
      "        vtkObserver (0x7fc03a8f3980)\n",
      "          Event: 33\n",
      "          EventName: ModifiedEvent\n",
      "          Command: 0x7fc03d3142f0\n",
      "          Priority: 0\n",
      "          Tag: 1\n",
      "    Number Of Arrays: 1\n",
      "    Array 0 name = ImageScalars\n",
      "    Number Of Components: 1\n",
      "    Number Of Tuples: 2097834\n",
      "    Copy Tuple Flags: ( 1 1 1 1 1 0 1 1 )\n",
      "    Interpolate Flags: ( 1 1 1 1 1 0 0 1 )\n",
      "    Pass Through Flags: ( 1 1 1 1 1 1 1 1 )\n",
      "    Scalars: \n",
      "      Debug: Off\n",
      "      Modified Time: 406\n",
      "      Reference Count: 1\n",
      "      Registered Events: (none)\n",
      "      Name: ImageScalars\n",
      "      Data type: float\n",
      "      Size: 2097834\n",
      "      MaxId: 2097833\n",
      "      NumberOfComponents: 1\n",
      "      Information: 0x7fc03d308ea0\n",
      "        Debug: Off\n",
      "        Modified Time: 5424\n",
      "        Reference Count: 1\n",
      "        Registered Events: (none)\n",
      "        PER_COMPONENT: vtkInformationVector(0x7fc03ada1c30)\n",
      "      Name: ImageScalars\n",
      "      Number Of Components: 1\n",
      "      Number Of Tuples: 2097834\n",
      "      Size: 2097834\n",
      "      MaxId: 2097833\n",
      "      LookupTable: (none)\n",
      "    Vectors: (none)\n",
      "    Normals: (none)\n",
      "    TCoords: (none)\n",
      "    Tensors: (none)\n",
      "    GlobalIds: (none)\n",
      "    PedigreeIds: (none)\n",
      "    EdgeFlag: (none)\n",
      "  Bounds: \n",
      "    Xmin,Xmax: (156.445, 293.554)\n",
      "    Ymin,Ymax: (24.6094, 369.141)\n",
      "    Zmin,Zmax: (0, 49.503)\n",
      "  Compute Time: 24264\n",
      "  Spacing: (0.878906, 0.878906, 1.50009)\n",
      "  Origin: (156.445, 24.6094, 0)\n",
      "  Dimensions: (157, 393, 34)\n",
      "  Increments: (0, 0, 0)\n",
      "  Extent: (0, 156, 0, 392, 0, 33)\n",
      "\n",
      "\n"
     ]
    }
   ],
   "source": [
    "print(aortaImage)"
   ]
  },
  {
   "cell_type": "markdown",
   "metadata": {},
   "source": [
    "likewise, we can access properties of the render window (even after it has closed out of processing)"
   ]
  },
  {
   "cell_type": "code",
   "execution_count": 6,
   "metadata": {},
   "outputs": [],
   "source": [
    "windowLevel = imagePype.vmtkimageviewer.InputMembers.WindowLevel"
   ]
  },
  {
   "cell_type": "code",
   "execution_count": 7,
   "metadata": {},
   "outputs": [
    {
     "data": {
      "text/plain": [
       "[0.0, 500.0]"
      ]
     },
     "execution_count": 7,
     "metadata": {},
     "output_type": "execute_result"
    }
   ],
   "source": [
    "windowLevel"
   ]
  },
  {
   "cell_type": "markdown",
   "metadata": {},
   "source": [
    "we can view the image in a new pype with the new vmtk.run interface. \n",
    "\n",
    "Just specify a variable name within `{curly braces}` of the input string, and the object will be seamlessly placed as in input into the new pype instance."
   ]
  },
  {
   "cell_type": "code",
   "execution_count": 8,
   "metadata": {},
   "outputs": [
    {
     "name": "stdout",
     "output_type": "stream",
     "text": [
      "\n",
      "Automatic piping vmtkimagevolumeviewer\n",
      "Parsing options vmtkimagevolumeviewer\n",
      "    Image = vtkImageData\n",
      "    Preset = CT-AAA2\n",
      "Explicit piping vmtkimagevolumeviewer\n",
      "Input vmtkimagevolumeviewer members:\n",
      "    Id = 0\n",
      "    Disabled = 0\n",
      "    Image = vtkImageData\n",
      "    ImageInputFileName = \n",
      "    ArrayName = \n",
      "    vmtkRenderer = None\n",
      "    Display = 1\n",
      "    Preset = CT-AAA2\n",
      "    VolumeRenderingMethod = default\n",
      "    BoxOutline = 0\n",
      "    ImageOutputFileName = \n",
      "Executing vmtkimagevolumeviewer ...\n",
      "Quit renderer\n",
      "Done executing vmtkimagevolumeviewer.\n",
      "Output vmtkimagevolumeviewer members:\n",
      "    Id = 0\n",
      "    Image = vtkImageData\n",
      "    ColorTransferFunction = vtkColorTransferFunction\n",
      "    GradientOpacityTransferFunction = vtkPiecewiseFunction\n",
      "    OpacityTransferFunction = vtkPiecewiseFunction\n",
      "    InterpolationType = 1\n",
      "    Shade = 1\n",
      "    SpecularPower = 10.0\n",
      "    Specular = 0.2\n",
      "    Diffuse = 0.9\n",
      "    Ambient = 0.1\n"
     ]
    }
   ],
   "source": [
    "imageVolumeViewer = vmtk.run('vmtkimagevolumeviewer -i {aortaImage} -preset CT-AAA2')"
   ]
  },
  {
   "cell_type": "markdown",
   "metadata": {},
   "source": [
    "![imageVolumeViewerPype](../img/imageVolumeViewer.png)"
   ]
  },
  {
   "cell_type": "markdown",
   "metadata": {},
   "source": [
    "### More Examples assigning variables to a pype"
   ]
  },
  {
   "cell_type": "code",
   "execution_count": 10,
   "metadata": {},
   "outputs": [],
   "source": [
    "fileName = './aorta.mha'\n",
    "flip = [0, 1, 1]\n",
    "level = 700"
   ]
  },
  {
   "cell_type": "code",
   "execution_count": 11,
   "metadata": {},
   "outputs": [
    {
     "name": "stdout",
     "output_type": "stream",
     "text": [
      "\n",
      "Automatic piping vmtkimagereader\n",
      "Parsing options vmtkimagereader\n",
      "    InputFileName = ./aorta.mha\n",
      "    Flip = [0, 1, 1]\n",
      "Explicit piping vmtkimagereader\n",
      "Input vmtkimagereader members:\n",
      "    Id = 0\n",
      "    Disabled = 0\n",
      "    Format = \n",
      "    GuessFormat = 1\n",
      "    UseITKIO = 1\n",
      "    Image = 0\n",
      "    InputFileName = ./aorta.mha\n",
      "    InputFilePrefix = \n",
      "    InputFilePattern = \n",
      "    DataExtent = [-1, -1, -1, -1, -1, -1]\n",
      "    HeaderSize = 0\n",
      "    DataSpacing = [1.0, 1.0, 1.0]\n",
      "    DataOrigin = [0.0, 0.0, 0.0]\n",
      "    DesiredOrientation = native\n",
      "    DataByteOrder = littleendian\n",
      "    DataScalarType = float\n",
      "    FileDimensionality = 3\n",
      "    Flip = [0, 1, 1]\n",
      "    AutoOrientDICOMImage = 1\n",
      "    ImageOutputFileName = \n",
      "Executing vmtkimagereader ...\n",
      "Spacing 0.878906 0.878906 1.500090\n",
      "Origin 156.445000 24.609400 0.000000\n",
      "Dimensions 157 393 34\n",
      "Done executing vmtkimagereader.\n",
      "Output vmtkimagereader members:\n",
      "    Id = 0\n",
      "    Image = vtkImageData\n",
      "    RasToIjkMatrixCoefficients = [1.137778101412438, -0.0, 0.0, -177.99969507546882, -0.0, 1.137778101412438, -0.0, -28.000036408899245, 0.0, -0.0, 0.6666266690665227, -0.0, -0.0, 0.0, -0.0, 1.0]\n",
      "    XyzToRasMatrixCoefficients = [1.0, 0.0, 0.0, 0.0, 0.0, 1.0, 0.0, 0.0, 0.0, 0.0, 1.0, 0.0, 0.0, 0.0, 0.0, 1.0]\n",
      "\n",
      "Automatic piping vmtkmarchingcubes\n",
      "    Image = vmtkimagereader-0.Image\n",
      "Parsing options vmtkmarchingcubes\n",
      "    Level = 700\n",
      "Explicit piping vmtkmarchingcubes\n",
      "Input vmtkmarchingcubes members:\n",
      "    Id = 0\n",
      "    Disabled = 0\n",
      "    Image = vtkImageData\n",
      "    ImageInputFileName = \n",
      "    ArrayName = \n",
      "    Level = 700\n",
      "    Connectivity = 0\n",
      "    SurfaceOutputFileName = \n",
      "Executing vmtkmarchingcubes ...\n",
      "Done executing vmtkmarchingcubes.\n",
      "Output vmtkmarchingcubes members:\n",
      "    Id = 0\n",
      "    Surface = vtkPolyData\n",
      "\n",
      "Automatic piping vmtksurfaceviewer\n",
      "    Surface = vmtkmarchingcubes-0.Surface\n",
      "Parsing options vmtksurfaceviewer\n",
      "Explicit piping vmtksurfaceviewer\n",
      "Input vmtksurfaceviewer members:\n",
      "    Id = 0\n",
      "    Disabled = 0\n",
      "    Surface = vtkPolyData\n",
      "    SurfaceInputFileName = \n",
      "    vmtkRenderer = None\n",
      "    Display = 1\n",
      "    Representation = surface\n",
      "    Opacity = 1.0\n",
      "    ArrayName = \n",
      "    ScalarRange = [0.0, 0.0]\n",
      "    ColorMap = cooltowarm\n",
      "    NumberOfColors = 256\n",
      "    Legend = 0\n",
      "    FlatInterpolation = 0\n",
      "    DisplayCellData = 0\n",
      "    DisplayTag = False\n",
      "    RegionTagArrayName = RegionTagArray\n",
      "    Color = [-1.0, -1.0, -1.0]\n",
      "    LineWidth = 1\n",
      "    LegendTitle = \n",
      "    SurfaceOutputFileName = \n",
      "Executing vmtksurfaceviewer ...\n",
      "Quit renderer\n",
      "Done executing vmtksurfaceviewer.\n",
      "Output vmtksurfaceviewer members:\n",
      "    Id = 0\n",
      "    Surface = vtkPolyData\n",
      "    Actor = vtkActor\n"
     ]
    }
   ],
   "source": [
    "surfaceExtractorPype = vmtk.run('vmtkimagereader -ifile {fileName} -flip {flip} --pipe vmtkmarchingcubes -l {level} --pipe vmtksurfaceviewer')"
   ]
  },
  {
   "cell_type": "markdown",
   "metadata": {},
   "source": [
    "![surfaceViewerPype](../img/surfaceViewerPype.png)"
   ]
  },
  {
   "cell_type": "markdown",
   "metadata": {},
   "source": [
    "Variables defined within a pype can be passed as arguments to another pype by simply enclosing them in `{curly braces}`"
   ]
  },
  {
   "cell_type": "code",
   "execution_count": 12,
   "metadata": {},
   "outputs": [],
   "source": [
    "myargs = 'vmtkrenderer --pipe vmtksurfaceviewer -i {surfaceExtractorPype.vmtkmarchingcubes.OutputMembers.Surface} --pipe vmtkimageviewer -i {imagePype.vmtkimagereader.OutputMembers.Image}'"
   ]
  },
  {
   "cell_type": "code",
   "execution_count": 13,
   "metadata": {},
   "outputs": [
    {
     "name": "stdout",
     "output_type": "stream",
     "text": [
      "\n",
      "Automatic piping vmtkrenderer\n",
      "Parsing options vmtkrenderer\n",
      "Explicit piping vmtkrenderer\n",
      "Input vmtkrenderer members:\n",
      "    Id = 0\n",
      "    Disabled = 0\n",
      "    WindowSize = [1200, 900]\n",
      "    WindowPosition = [50, 50]\n",
      "    PointSmoothing = 1\n",
      "    LineSmoothing = 1\n",
      "    PolygonSmoothing = 0\n",
      "    Annotations = 1\n",
      "    Background = [0.1, 0.1, 0.2]\n",
      "    ScreenshotMagnification = 4\n",
      "Executing vmtkrenderer ...\n",
      "Done executing vmtkrenderer.\n",
      "Output vmtkrenderer members:\n",
      "    Id = 0\n",
      "    vmtkRenderer = vmtkRenderer\n",
      "\n",
      "Automatic piping vmtksurfaceviewer\n",
      "    vmtkRenderer = vmtkrenderer-0.vmtkRenderer\n",
      "Parsing options vmtksurfaceviewer\n",
      "    Surface = vtkPolyData\n",
      "Explicit piping vmtksurfaceviewer\n",
      "Input vmtksurfaceviewer members:\n",
      "    Id = 0\n",
      "    Disabled = 0\n",
      "    Surface = vtkPolyData\n",
      "    SurfaceInputFileName = \n",
      "    vmtkRenderer = vmtkRenderer\n",
      "    Display = 1\n",
      "    Representation = surface\n",
      "    Opacity = 1.0\n",
      "    ArrayName = \n",
      "    ScalarRange = [0.0, 0.0]\n",
      "    ColorMap = cooltowarm\n",
      "    NumberOfColors = 256\n",
      "    Legend = 0\n",
      "    FlatInterpolation = 0\n",
      "    DisplayCellData = 0\n",
      "    DisplayTag = False\n",
      "    RegionTagArrayName = RegionTagArray\n",
      "    Color = [-1.0, -1.0, -1.0]\n",
      "    LineWidth = 1\n",
      "    LegendTitle = \n",
      "    SurfaceOutputFileName = \n",
      "Executing vmtksurfaceviewer ...\n",
      "Quit renderer\n",
      "Done executing vmtksurfaceviewer.\n",
      "Output vmtksurfaceviewer members:\n",
      "    Id = 0\n",
      "    Surface = vtkPolyData\n",
      "    Actor = vtkActor\n",
      "\n",
      "Automatic piping vmtkimageviewer\n",
      "    vmtkRenderer = vmtkrenderer-0.vmtkRenderer\n",
      "Parsing options vmtkimageviewer\n",
      "    Image = vtkImageData\n",
      "Explicit piping vmtkimageviewer\n",
      "Input vmtkimageviewer members:\n",
      "    Id = 0\n",
      "    Disabled = 0\n",
      "    Image = vtkImageData\n",
      "    ImageInputFileName = \n",
      "    ArrayName = \n",
      "    vmtkRenderer = vmtkRenderer\n",
      "    WindowLevel = [0.0, 0.0]\n",
      "    Display = 1\n",
      "    Margins = 0\n",
      "    TextureInterpolation = 1\n",
      "    ContinuousCursor = 0\n",
      "    ImageOutputFileName = \n",
      "Executing vmtkimageviewer ...\n",
      "Quit renderer\n",
      "Done executing vmtkimageviewer.\n",
      "Output vmtkimageviewer members:\n",
      "    Id = 0\n",
      "    Image = vtkImageData\n",
      "    PlaneWidgetX = vtkImagePlaneWidget\n",
      "    PlaneWidgetY = vtkImagePlaneWidget\n",
      "    PlaneWidgetZ = vtkImagePlaneWidget\n"
     ]
    }
   ],
   "source": [
    "multipleRendererPype = vmtk.run(myargs)"
   ]
  },
  {
   "cell_type": "markdown",
   "metadata": {},
   "source": [
    "![multipleRendererPype](../img/multipleRendererPype.png)"
   ]
  },
  {
   "cell_type": "code",
   "execution_count": null,
   "metadata": {},
   "outputs": [],
   "source": []
  }
 ],
 "metadata": {
  "kernelspec": {
   "display_name": "Python 3",
   "language": "python",
   "name": "python3"
  },
  "language_info": {
   "codemirror_mode": {
    "name": "ipython",
    "version": 3
   },
   "file_extension": ".py",
   "mimetype": "text/x-python",
   "name": "python",
   "nbconvert_exporter": "python",
   "pygments_lexer": "ipython3",
   "version": "3.6.1"
  }
 },
 "nbformat": 4,
 "nbformat_minor": 2
}
